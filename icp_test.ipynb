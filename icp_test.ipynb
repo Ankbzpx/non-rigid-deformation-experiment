{
 "cells": [
  {
   "cell_type": "code",
   "execution_count": 1,
   "metadata": {},
   "outputs": [],
   "source": [
    "import numpy as np\n",
    "from icecream import ic\n",
    "import matplotlib.pyplot as plt\n",
    "import closest_neighbour\n",
    "from pyrr import Matrix44\n",
    "import polyscope as ps"
   ]
  },
  {
   "cell_type": "code",
   "execution_count": 113,
   "metadata": {},
   "outputs": [],
   "source": [
    "T_true = np.array(Matrix44.look_at([1, 2, 3], [0, 9, 0], [0, 1, 0]).T)\n",
    "R_true = T_true[:3, :3]\n",
    "t_true = np.array([-10, 20, 2])\n",
    "\n",
    "# Generate data as a list of 2d points\n",
    "num_points = 30\n",
    "X_true = np.zeros((num_points, 3))\n",
    "X_true[:, 0] = range(0, num_points)\n",
    "X_true[:, 1] = 0.2 * X_true[:, 0] * np.sin(0.5 * X_true[:, 0])\n",
    "X_true[:, 2] = 0.2 * X_true[:, 1] * np.sin(0.5 * X_true[:, 1])\n",
    "# Move the data\n",
    "X_moved = X_true @ R_true.T + t_true\n",
    "\n",
    "# Assign to variables we use in formulas.\n",
    "Q = X_true\n",
    "P = X_moved\n",
    "weight = np.ones(len(P))"
   ]
  },
  {
   "cell_type": "code",
   "execution_count": 119,
   "metadata": {},
   "outputs": [
    {
     "name": "stdout",
     "output_type": "stream",
     "text": [
      "[[ 9.99968371e-01  7.94866269e-03  2.74118372e-04]\n",
      " [-7.94914094e-03  9.99966803e-01  1.79010016e-03]\n",
      " [-2.59880369e-04 -1.79222255e-03  9.99998360e-01]] 1.0000932284818638 [[-0.00295877  0.11475733  0.00419144]]\n",
      "4.0852161308958955e-05\n"
     ]
    }
   ],
   "source": [
    "# https://web.stanford.edu/class/cs273/refs/umeyama.pdf\n",
    "\n",
    "Q_mu = np.average(Q, 0, keepdims=True)\n",
    "P_mu = np.average(P, 0, keepdims=True)\n",
    "\n",
    "Q_bar = (Q - Q_mu) * weight[..., None]\n",
    "P_bar = (P - P_mu) * weight[..., None]\n",
    "\n",
    "assert np.linalg.matrix_rank(Q_bar) >= 3\n",
    "assert np.linalg.matrix_rank(P_bar) >= 3\n",
    "\n",
    "_, closest_Q_indices, _, _ = closest_neighbour.compute(P_bar, Q_bar)\n",
    "\n",
    "N = len(P)\n",
    "weight_sum = np.sum(weight)\n",
    "\n",
    "cov = Q_bar[closest_Q_indices].T @ P_bar / N / weight_sum\n",
    "U, S, V_T = np.linalg.svd(cov)\n",
    "R = U @ V_T\n",
    "\n",
    "# reflection\n",
    "E = np.ones(len(cov))\n",
    "E[-1] = np.sign(np.linalg.det(R))\n",
    "\n",
    "R = R * E\n",
    "\n",
    "s = np.sum(S) / (np.sum(P_bar * P_bar) / N / weight_sum )\n",
    "t = Q_mu - s * P_mu @ R.T\n",
    "\n",
    "print(R, s, t)\n",
    "\n",
    "P = s * P @ R.T + t\n",
    "\n",
    "# t = Q_mu - P_mu @ R.T\n",
    "# print(R, t)\n",
    "# P = P @ R.T + t\n",
    "\n",
    "residual = ((P - Q)**2).sum(1)\n",
    "# Huber loss\n",
    "weight = np.where(residual < 2, np.power(residual, -0.5), 1)\n",
    "\n",
    "print(np.average(residual))\n",
    "\n"
   ]
  },
  {
   "cell_type": "code",
   "execution_count": 121,
   "metadata": {},
   "outputs": [],
   "source": [
    "ps.init()\n",
    "ps.register_point_cloud('Q', Q)\n",
    "ps.register_point_cloud('P', P)\n",
    "ps.show()"
   ]
  },
  {
   "cell_type": "code",
   "execution_count": null,
   "metadata": {},
   "outputs": [],
   "source": []
  }
 ],
 "metadata": {
  "kernelspec": {
   "display_name": "pytorch",
   "language": "python",
   "name": "python3"
  },
  "language_info": {
   "codemirror_mode": {
    "name": "ipython",
    "version": 3
   },
   "file_extension": ".py",
   "mimetype": "text/x-python",
   "name": "python",
   "nbconvert_exporter": "python",
   "pygments_lexer": "ipython3",
   "version": "3.10.6"
  },
  "orig_nbformat": 4
 },
 "nbformat": 4,
 "nbformat_minor": 2
}
